{
 "cells": [
  {
   "cell_type": "markdown",
   "metadata": {},
   "source": [
    "# MLP(regression)\n",
    "\n",
    "## This Notebook is for Question_1 of <a href=\"https://scholar.google.com/citations?user=m7xdmMgAAAAJ&hl=en\"> Prof.kalhor </a> Deep learning course Tehran university"
   ]
  },
  {
   "cell_type": "code",
   "execution_count": 94,
   "metadata": {},
   "outputs": [],
   "source": [
    "\n",
    "\n",
    "import numpy as np \n",
    "import pandas as pd \n",
    "import matplotlib.pyplot as plt \n",
    "import seaborn as sns \n",
    "import scipy as sc \n",
    "import os \n",
    "import time \n",
    "import tensorflow as tf \n",
    " \n"
   ]
  },
  {
   "cell_type": "code",
   "execution_count": 95,
   "metadata": {},
   "outputs": [],
   "source": [
    "train_data = pd.read_csv(\"/home/alireza/Desktop/H1.csv\")\n",
    "test_data = pd.read_csv(\"/home/alireza/Desktop/H2.csv\")"
   ]
  },
  {
   "cell_type": "code",
   "execution_count": 96,
   "metadata": {},
   "outputs": [
    {
     "data": {
      "text/html": [
       "<div>\n",
       "<style scoped>\n",
       "    .dataframe tbody tr th:only-of-type {\n",
       "        vertical-align: middle;\n",
       "    }\n",
       "\n",
       "    .dataframe tbody tr th {\n",
       "        vertical-align: top;\n",
       "    }\n",
       "\n",
       "    .dataframe thead th {\n",
       "        text-align: right;\n",
       "    }\n",
       "</style>\n",
       "<table border=\"1\" class=\"dataframe\">\n",
       "  <thead>\n",
       "    <tr style=\"text-align: right;\">\n",
       "      <th></th>\n",
       "      <th>IsCanceled</th>\n",
       "      <th>LeadTime</th>\n",
       "      <th>ArrivalDateYear</th>\n",
       "      <th>ArrivalDateMonth</th>\n",
       "      <th>ArrivalDateWeekNumber</th>\n",
       "      <th>ArrivalDateDayOfMonth</th>\n",
       "      <th>StaysInWeekendNights</th>\n",
       "      <th>StaysInWeekNights</th>\n",
       "      <th>Adults</th>\n",
       "      <th>Children</th>\n",
       "      <th>...</th>\n",
       "      <th>ReservedRoomType</th>\n",
       "      <th>AssignedRoomType</th>\n",
       "      <th>BookingChanges</th>\n",
       "      <th>DepositType</th>\n",
       "      <th>DaysInWaitingList</th>\n",
       "      <th>CustomerType</th>\n",
       "      <th>ADR</th>\n",
       "      <th>RequiredCarParkingSpaces</th>\n",
       "      <th>TotalOfSpecialRequests</th>\n",
       "      <th>ReservationStatus</th>\n",
       "    </tr>\n",
       "  </thead>\n",
       "  <tbody>\n",
       "    <tr>\n",
       "      <th>0</th>\n",
       "      <td>0</td>\n",
       "      <td>342</td>\n",
       "      <td>2015</td>\n",
       "      <td>July</td>\n",
       "      <td>27</td>\n",
       "      <td>1</td>\n",
       "      <td>0</td>\n",
       "      <td>0</td>\n",
       "      <td>2</td>\n",
       "      <td>0</td>\n",
       "      <td>...</td>\n",
       "      <td>C</td>\n",
       "      <td>C</td>\n",
       "      <td>3</td>\n",
       "      <td>No Deposit</td>\n",
       "      <td>0</td>\n",
       "      <td>Transient</td>\n",
       "      <td>0.00</td>\n",
       "      <td>0</td>\n",
       "      <td>0</td>\n",
       "      <td>Check-Out</td>\n",
       "    </tr>\n",
       "    <tr>\n",
       "      <th>1</th>\n",
       "      <td>0</td>\n",
       "      <td>737</td>\n",
       "      <td>2015</td>\n",
       "      <td>July</td>\n",
       "      <td>27</td>\n",
       "      <td>1</td>\n",
       "      <td>0</td>\n",
       "      <td>0</td>\n",
       "      <td>2</td>\n",
       "      <td>0</td>\n",
       "      <td>...</td>\n",
       "      <td>C</td>\n",
       "      <td>C</td>\n",
       "      <td>4</td>\n",
       "      <td>No Deposit</td>\n",
       "      <td>0</td>\n",
       "      <td>Transient</td>\n",
       "      <td>0.00</td>\n",
       "      <td>0</td>\n",
       "      <td>0</td>\n",
       "      <td>Check-Out</td>\n",
       "    </tr>\n",
       "    <tr>\n",
       "      <th>2</th>\n",
       "      <td>0</td>\n",
       "      <td>7</td>\n",
       "      <td>2015</td>\n",
       "      <td>July</td>\n",
       "      <td>27</td>\n",
       "      <td>1</td>\n",
       "      <td>0</td>\n",
       "      <td>1</td>\n",
       "      <td>1</td>\n",
       "      <td>0</td>\n",
       "      <td>...</td>\n",
       "      <td>A</td>\n",
       "      <td>C</td>\n",
       "      <td>0</td>\n",
       "      <td>No Deposit</td>\n",
       "      <td>0</td>\n",
       "      <td>Transient</td>\n",
       "      <td>75.00</td>\n",
       "      <td>0</td>\n",
       "      <td>0</td>\n",
       "      <td>Check-Out</td>\n",
       "    </tr>\n",
       "    <tr>\n",
       "      <th>3</th>\n",
       "      <td>0</td>\n",
       "      <td>13</td>\n",
       "      <td>2015</td>\n",
       "      <td>July</td>\n",
       "      <td>27</td>\n",
       "      <td>1</td>\n",
       "      <td>0</td>\n",
       "      <td>1</td>\n",
       "      <td>1</td>\n",
       "      <td>0</td>\n",
       "      <td>...</td>\n",
       "      <td>A</td>\n",
       "      <td>A</td>\n",
       "      <td>0</td>\n",
       "      <td>No Deposit</td>\n",
       "      <td>0</td>\n",
       "      <td>Transient</td>\n",
       "      <td>75.00</td>\n",
       "      <td>0</td>\n",
       "      <td>0</td>\n",
       "      <td>Check-Out</td>\n",
       "    </tr>\n",
       "    <tr>\n",
       "      <th>4</th>\n",
       "      <td>0</td>\n",
       "      <td>14</td>\n",
       "      <td>2015</td>\n",
       "      <td>July</td>\n",
       "      <td>27</td>\n",
       "      <td>1</td>\n",
       "      <td>0</td>\n",
       "      <td>2</td>\n",
       "      <td>2</td>\n",
       "      <td>0</td>\n",
       "      <td>...</td>\n",
       "      <td>A</td>\n",
       "      <td>A</td>\n",
       "      <td>0</td>\n",
       "      <td>No Deposit</td>\n",
       "      <td>0</td>\n",
       "      <td>Transient</td>\n",
       "      <td>98.00</td>\n",
       "      <td>0</td>\n",
       "      <td>1</td>\n",
       "      <td>Check-Out</td>\n",
       "    </tr>\n",
       "    <tr>\n",
       "      <th>...</th>\n",
       "      <td>...</td>\n",
       "      <td>...</td>\n",
       "      <td>...</td>\n",
       "      <td>...</td>\n",
       "      <td>...</td>\n",
       "      <td>...</td>\n",
       "      <td>...</td>\n",
       "      <td>...</td>\n",
       "      <td>...</td>\n",
       "      <td>...</td>\n",
       "      <td>...</td>\n",
       "      <td>...</td>\n",
       "      <td>...</td>\n",
       "      <td>...</td>\n",
       "      <td>...</td>\n",
       "      <td>...</td>\n",
       "      <td>...</td>\n",
       "      <td>...</td>\n",
       "      <td>...</td>\n",
       "      <td>...</td>\n",
       "      <td>...</td>\n",
       "    </tr>\n",
       "    <tr>\n",
       "      <th>40055</th>\n",
       "      <td>0</td>\n",
       "      <td>212</td>\n",
       "      <td>2017</td>\n",
       "      <td>August</td>\n",
       "      <td>35</td>\n",
       "      <td>31</td>\n",
       "      <td>2</td>\n",
       "      <td>8</td>\n",
       "      <td>2</td>\n",
       "      <td>1</td>\n",
       "      <td>...</td>\n",
       "      <td>A</td>\n",
       "      <td>A</td>\n",
       "      <td>1</td>\n",
       "      <td>No Deposit</td>\n",
       "      <td>0</td>\n",
       "      <td>Transient</td>\n",
       "      <td>89.75</td>\n",
       "      <td>0</td>\n",
       "      <td>0</td>\n",
       "      <td>Check-Out</td>\n",
       "    </tr>\n",
       "    <tr>\n",
       "      <th>40056</th>\n",
       "      <td>0</td>\n",
       "      <td>169</td>\n",
       "      <td>2017</td>\n",
       "      <td>August</td>\n",
       "      <td>35</td>\n",
       "      <td>30</td>\n",
       "      <td>2</td>\n",
       "      <td>9</td>\n",
       "      <td>2</td>\n",
       "      <td>0</td>\n",
       "      <td>...</td>\n",
       "      <td>E</td>\n",
       "      <td>E</td>\n",
       "      <td>0</td>\n",
       "      <td>No Deposit</td>\n",
       "      <td>0</td>\n",
       "      <td>Transient-Party</td>\n",
       "      <td>202.27</td>\n",
       "      <td>0</td>\n",
       "      <td>1</td>\n",
       "      <td>Check-Out</td>\n",
       "    </tr>\n",
       "    <tr>\n",
       "      <th>40057</th>\n",
       "      <td>0</td>\n",
       "      <td>204</td>\n",
       "      <td>2017</td>\n",
       "      <td>August</td>\n",
       "      <td>35</td>\n",
       "      <td>29</td>\n",
       "      <td>4</td>\n",
       "      <td>10</td>\n",
       "      <td>2</td>\n",
       "      <td>0</td>\n",
       "      <td>...</td>\n",
       "      <td>E</td>\n",
       "      <td>E</td>\n",
       "      <td>0</td>\n",
       "      <td>No Deposit</td>\n",
       "      <td>0</td>\n",
       "      <td>Transient</td>\n",
       "      <td>153.57</td>\n",
       "      <td>0</td>\n",
       "      <td>3</td>\n",
       "      <td>Check-Out</td>\n",
       "    </tr>\n",
       "    <tr>\n",
       "      <th>40058</th>\n",
       "      <td>0</td>\n",
       "      <td>211</td>\n",
       "      <td>2017</td>\n",
       "      <td>August</td>\n",
       "      <td>35</td>\n",
       "      <td>31</td>\n",
       "      <td>4</td>\n",
       "      <td>10</td>\n",
       "      <td>2</td>\n",
       "      <td>0</td>\n",
       "      <td>...</td>\n",
       "      <td>D</td>\n",
       "      <td>D</td>\n",
       "      <td>0</td>\n",
       "      <td>No Deposit</td>\n",
       "      <td>0</td>\n",
       "      <td>Contract</td>\n",
       "      <td>112.80</td>\n",
       "      <td>0</td>\n",
       "      <td>1</td>\n",
       "      <td>Check-Out</td>\n",
       "    </tr>\n",
       "    <tr>\n",
       "      <th>40059</th>\n",
       "      <td>0</td>\n",
       "      <td>161</td>\n",
       "      <td>2017</td>\n",
       "      <td>August</td>\n",
       "      <td>35</td>\n",
       "      <td>31</td>\n",
       "      <td>4</td>\n",
       "      <td>10</td>\n",
       "      <td>2</td>\n",
       "      <td>0</td>\n",
       "      <td>...</td>\n",
       "      <td>A</td>\n",
       "      <td>A</td>\n",
       "      <td>0</td>\n",
       "      <td>No Deposit</td>\n",
       "      <td>0</td>\n",
       "      <td>Transient</td>\n",
       "      <td>99.06</td>\n",
       "      <td>0</td>\n",
       "      <td>0</td>\n",
       "      <td>Check-Out</td>\n",
       "    </tr>\n",
       "  </tbody>\n",
       "</table>\n",
       "<p>40060 rows × 28 columns</p>\n",
       "</div>"
      ],
      "text/plain": [
       "       IsCanceled  LeadTime  ArrivalDateYear ArrivalDateMonth  \\\n",
       "0               0       342             2015             July   \n",
       "1               0       737             2015             July   \n",
       "2               0         7             2015             July   \n",
       "3               0        13             2015             July   \n",
       "4               0        14             2015             July   \n",
       "...           ...       ...              ...              ...   \n",
       "40055           0       212             2017           August   \n",
       "40056           0       169             2017           August   \n",
       "40057           0       204             2017           August   \n",
       "40058           0       211             2017           August   \n",
       "40059           0       161             2017           August   \n",
       "\n",
       "       ArrivalDateWeekNumber  ArrivalDateDayOfMonth  StaysInWeekendNights  \\\n",
       "0                         27                      1                     0   \n",
       "1                         27                      1                     0   \n",
       "2                         27                      1                     0   \n",
       "3                         27                      1                     0   \n",
       "4                         27                      1                     0   \n",
       "...                      ...                    ...                   ...   \n",
       "40055                     35                     31                     2   \n",
       "40056                     35                     30                     2   \n",
       "40057                     35                     29                     4   \n",
       "40058                     35                     31                     4   \n",
       "40059                     35                     31                     4   \n",
       "\n",
       "       StaysInWeekNights  Adults  Children  ...  ReservedRoomType  \\\n",
       "0                      0       2         0  ...  C                  \n",
       "1                      0       2         0  ...  C                  \n",
       "2                      1       1         0  ...  A                  \n",
       "3                      1       1         0  ...  A                  \n",
       "4                      2       2         0  ...  A                  \n",
       "...                  ...     ...       ...  ...               ...   \n",
       "40055                  8       2         1  ...  A                  \n",
       "40056                  9       2         0  ...  E                  \n",
       "40057                 10       2         0  ...  E                  \n",
       "40058                 10       2         0  ...  D                  \n",
       "40059                 10       2         0  ...  A                  \n",
       "\n",
       "       AssignedRoomType BookingChanges      DepositType DaysInWaitingList  \\\n",
       "0      C                             3  No Deposit                      0   \n",
       "1      C                             4  No Deposit                      0   \n",
       "2      C                             0  No Deposit                      0   \n",
       "3      A                             0  No Deposit                      0   \n",
       "4      A                             0  No Deposit                      0   \n",
       "...                 ...            ...              ...               ...   \n",
       "40055  A                             1  No Deposit                      0   \n",
       "40056  E                             0  No Deposit                      0   \n",
       "40057  E                             0  No Deposit                      0   \n",
       "40058  D                             0  No Deposit                      0   \n",
       "40059  A                             0  No Deposit                      0   \n",
       "\n",
       "          CustomerType     ADR  RequiredCarParkingSpaces  \\\n",
       "0            Transient    0.00                         0   \n",
       "1            Transient    0.00                         0   \n",
       "2            Transient   75.00                         0   \n",
       "3            Transient   75.00                         0   \n",
       "4            Transient   98.00                         0   \n",
       "...                ...     ...                       ...   \n",
       "40055        Transient   89.75                         0   \n",
       "40056  Transient-Party  202.27                         0   \n",
       "40057        Transient  153.57                         0   \n",
       "40058         Contract  112.80                         0   \n",
       "40059        Transient   99.06                         0   \n",
       "\n",
       "      TotalOfSpecialRequests ReservationStatus  \n",
       "0                          0         Check-Out  \n",
       "1                          0         Check-Out  \n",
       "2                          0         Check-Out  \n",
       "3                          0         Check-Out  \n",
       "4                          1         Check-Out  \n",
       "...                      ...               ...  \n",
       "40055                      0         Check-Out  \n",
       "40056                      1         Check-Out  \n",
       "40057                      3         Check-Out  \n",
       "40058                      1         Check-Out  \n",
       "40059                      0         Check-Out  \n",
       "\n",
       "[40060 rows x 28 columns]"
      ]
     },
     "execution_count": 96,
     "metadata": {},
     "output_type": "execute_result"
    }
   ],
   "source": [
    "train_data# we should estimate \"ADR\""
   ]
  },
  {
   "cell_type": "code",
   "execution_count": 97,
   "metadata": {},
   "outputs": [
    {
     "name": "stdout",
     "output_type": "stream",
     "text": [
      "Categorical variables:\n",
      "['ArrivalDateMonth', 'Meal', 'Country', 'MarketSegment', 'DistributionChannel', 'ReservedRoomType', 'AssignedRoomType', 'DepositType', 'CustomerType', 'ReservationStatus']\n"
     ]
    }
   ],
   "source": [
    "# Get list of categorical variables \n",
    "s = (train_data.dtypes == 'object')\n",
    "object_cols = list(s[s].index)\n",
    "\n",
    "print(\"Categorical variables:\")\n",
    "print(object_cols)"
   ]
  },
  {
   "cell_type": "code",
   "execution_count": 98,
   "metadata": {},
   "outputs": [
    {
     "data": {
      "text/plain": [
       "list"
      ]
     },
     "execution_count": 98,
     "metadata": {},
     "output_type": "execute_result"
    }
   ],
   "source": [
    "type(object_cols) "
   ]
  },
  {
   "cell_type": "code",
   "execution_count": 99,
   "metadata": {},
   "outputs": [
    {
     "name": "stdout",
     "output_type": "stream",
     "text": [
      "Country 0.0116 %\n"
     ]
    }
   ],
   "source": [
    "#finding out how many NaN values are there in each feature \n",
    "features_na = [features for features in train_data.columns if train_data[features].isnull().sum()>1]\n",
    "for feature in features_na:\n",
    "      print(feature, np.round(train_data[feature].isnull().mean(), 4),'%') \n",
    "        \n"
   ]
  },
  {
   "cell_type": "code",
   "execution_count": 100,
   "metadata": {},
   "outputs": [
    {
     "name": "stdout",
     "output_type": "stream",
     "text": [
      "No. of Numerical variables: 18\n"
     ]
    }
   ],
   "source": [
    "num_features = [feature for feature in train_data.columns if train_data[feature].dtypes != 'O']\n",
    "print('No. of Numerical variables:', len(num_features)) "
   ]
  },
  {
   "cell_type": "code",
   "execution_count": null,
   "metadata": {
    "scrolled": true
   },
   "outputs": [],
   "source": []
  },
  {
   "cell_type": "markdown",
   "metadata": {},
   "source": [
    "### remove Nan in our dataset ###"
   ]
  },
  {
   "cell_type": "code",
   "execution_count": 101,
   "metadata": {},
   "outputs": [
    {
     "data": {
      "text/plain": [
       "IsCanceled                       0\n",
       "LeadTime                         0\n",
       "ArrivalDateYear                  0\n",
       "ArrivalDateMonth                 0\n",
       "ArrivalDateWeekNumber            0\n",
       "ArrivalDateDayOfMonth            0\n",
       "StaysInWeekendNights             0\n",
       "StaysInWeekNights                0\n",
       "Adults                           0\n",
       "Children                         0\n",
       "Babies                           0\n",
       "Meal                             0\n",
       "Country                        464\n",
       "MarketSegment                    0\n",
       "DistributionChannel              0\n",
       "IsRepeatedGuest                  0\n",
       "PreviousCancellations            0\n",
       "PreviousBookingsNotCanceled      0\n",
       "ReservedRoomType                 0\n",
       "AssignedRoomType                 0\n",
       "BookingChanges                   0\n",
       "DepositType                      0\n",
       "DaysInWaitingList                0\n",
       "CustomerType                     0\n",
       "ADR                              0\n",
       "RequiredCarParkingSpaces         0\n",
       "TotalOfSpecialRequests           0\n",
       "ReservationStatus                0\n",
       "dtype: int64"
      ]
     },
     "execution_count": 101,
     "metadata": {},
     "output_type": "execute_result"
    }
   ],
   "source": [
    "train_data.isna().sum() \n",
    "# you can see country is just have \"NaN\"!!"
   ]
  },
  {
   "cell_type": "code",
   "execution_count": 102,
   "metadata": {},
   "outputs": [
    {
     "data": {
      "text/plain": [
       "0        PRT\n",
       "1        PRT\n",
       "2        GBR\n",
       "3        GBR\n",
       "4        GBR\n",
       "        ... \n",
       "40055    GBR\n",
       "40056    IRL\n",
       "40057    IRL\n",
       "40058    GBR\n",
       "40059    DEU\n",
       "Name: Country, Length: 40060, dtype: object"
      ]
     },
     "execution_count": 102,
     "metadata": {},
     "output_type": "execute_result"
    }
   ],
   "source": [
    "train_data[\"Country\"]"
   ]
  },
  {
   "cell_type": "code",
   "execution_count": 103,
   "metadata": {},
   "outputs": [],
   "source": [
    "train_data = train_data.dropna() \n",
    "# Drop Nan in Country columns \n",
    "test_data  = test_data.dropna()"
   ]
  },
  {
   "cell_type": "code",
   "execution_count": 104,
   "metadata": {},
   "outputs": [
    {
     "data": {
      "text/plain": [
       "IsCanceled                     0\n",
       "LeadTime                       0\n",
       "ArrivalDateYear                0\n",
       "ArrivalDateMonth               0\n",
       "ArrivalDateWeekNumber          0\n",
       "ArrivalDateDayOfMonth          0\n",
       "StaysInWeekendNights           0\n",
       "StaysInWeekNights              0\n",
       "Adults                         0\n",
       "Children                       0\n",
       "Babies                         0\n",
       "Meal                           0\n",
       "Country                        0\n",
       "MarketSegment                  0\n",
       "DistributionChannel            0\n",
       "IsRepeatedGuest                0\n",
       "PreviousCancellations          0\n",
       "PreviousBookingsNotCanceled    0\n",
       "ReservedRoomType               0\n",
       "AssignedRoomType               0\n",
       "BookingChanges                 0\n",
       "DepositType                    0\n",
       "DaysInWaitingList              0\n",
       "CustomerType                   0\n",
       "ADR                            0\n",
       "RequiredCarParkingSpaces       0\n",
       "TotalOfSpecialRequests         0\n",
       "ReservationStatus              0\n",
       "dtype: int64"
      ]
     },
     "execution_count": 104,
     "metadata": {},
     "output_type": "execute_result"
    }
   ],
   "source": [
    "train_data.isna().sum() \n"
   ]
  },
  {
   "cell_type": "markdown",
   "metadata": {},
   "source": []
  },
  {
   "cell_type": "code",
   "execution_count": 105,
   "metadata": {},
   "outputs": [],
   "source": [
    "y_train = train_data['ADR'].values.reshape(-1,1)\n",
    "y_test = test_data['ADR'].values.reshape(-1,1)"
   ]
  },
  {
   "cell_type": "markdown",
   "metadata": {},
   "source": [
    "# Normalization #"
   ]
  },
  {
   "cell_type": "code",
   "execution_count": 106,
   "metadata": {},
   "outputs": [],
   "source": [
    "min = np.min(y_train,axis=0)\n",
    "max = np.max(y_train,axis=0)\n",
    "y_train = (y_train-min)/(max-min)\n",
    "y_test = (y_test-min)/(max-min)\n"
   ]
  },
  {
   "cell_type": "markdown",
   "metadata": {},
   "source": [
    "# better approach for determine categorical data #"
   ]
  },
  {
   "cell_type": "code",
   "execution_count": 107,
   "metadata": {},
   "outputs": [],
   "source": [
    "train_data = train_data.drop(['ADR'], axis=1)\n",
    "test_data = test_data.drop(['ADR'], axis=1)\n",
    "\n",
    "train_data_cat = train_data.select_dtypes(include=['object'])\n",
    "train_data_num = train_data.select_dtypes(exclude=['object'])\n",
    "\n",
    "test_data_cat = test_data.select_dtypes(include=['object'])\n",
    "test_data_num = test_data.select_dtypes(exclude=['object'])"
   ]
  },
  {
   "cell_type": "markdown",
   "metadata": {},
   "source": [
    "# Encodeing categorical features"
   ]
  },
  {
   "cell_type": "code",
   "execution_count": 108,
   "metadata": {},
   "outputs": [],
   "source": [
    "from sklearn import preprocessing\n",
    "enc = preprocessing.OrdinalEncoder()\n",
    "enc.fit(np.concatenate((train_data_cat,test_data_cat),axis=0))\n",
    "train_data_cat = enc.transform(train_data_cat)\n",
    "test_data_cat = enc.transform(test_data_cat)"
   ]
  },
  {
   "cell_type": "markdown",
   "metadata": {},
   "source": [
    "# Normalizing test & train"
   ]
  },
  {
   "cell_type": "code",
   "execution_count": 109,
   "metadata": {},
   "outputs": [],
   "source": [
    "x_train = np.concatenate((train_data_num, train_data_cat), axis=1)\n",
    "x_test = np.concatenate((test_data_num, test_data_cat), axis=1)\n",
    "min2 = np.min(x_train,axis=0).reshape(1,27)\n",
    "max2 = np.max(x_train,axis=0).reshape(1,27)\n",
    "x_train = (x_train-min2)/(max2-min2)\n",
    "x_test = (x_test-min2)/(max2-min2)"
   ]
  },
  {
   "cell_type": "markdown",
   "metadata": {},
   "source": [
    "# review of concatenate for axis =0,1"
   ]
  },
  {
   "cell_type": "code",
   "execution_count": 110,
   "metadata": {},
   "outputs": [
    {
     "data": {
      "text/plain": [
       "array([[1, 2, 5],\n",
       "       [3, 4, 6]])"
      ]
     },
     "execution_count": 110,
     "metadata": {},
     "output_type": "execute_result"
    }
   ],
   "source": [
    "a = np.array([[1, 2], [3, 4]])\n",
    "b = np.array([[5, 6]]) \n",
    "np.concatenate((a, b.T), axis=1)"
   ]
  },
  {
   "cell_type": "markdown",
   "metadata": {},
   "source": [
    "# Model ( keras,MLP)"
   ]
  },
  {
   "cell_type": "code",
   "execution_count": 114,
   "metadata": {},
   "outputs": [
    {
     "name": "stdout",
     "output_type": "stream",
     "text": [
      "Epoch 1/30\n",
      "495/495 [==============================] - 1s 1ms/step - loss: 0.0100 - mae: 0.0748 - val_loss: 0.0095 - val_mae: 0.0676\n",
      "Epoch 2/30\n",
      "495/495 [==============================] - 1s 1ms/step - loss: 0.0054 - mae: 0.0528 - val_loss: 0.0045 - val_mae: 0.0473\n",
      "Epoch 3/30\n",
      "495/495 [==============================] - 1s 1ms/step - loss: 0.0043 - mae: 0.0456 - val_loss: 0.0036 - val_mae: 0.0424\n",
      "Epoch 4/30\n",
      "495/495 [==============================] - 1s 1ms/step - loss: 0.0040 - mae: 0.0434 - val_loss: 0.0037 - val_mae: 0.0430\n",
      "Epoch 5/30\n",
      "495/495 [==============================] - 1s 1ms/step - loss: 0.0038 - mae: 0.0420 - val_loss: 0.0034 - val_mae: 0.0406\n",
      "Epoch 6/30\n",
      "495/495 [==============================] - 1s 1ms/step - loss: 0.0036 - mae: 0.0410 - val_loss: 0.0036 - val_mae: 0.0426\n",
      "Epoch 7/30\n",
      "495/495 [==============================] - 1s 1ms/step - loss: 0.0035 - mae: 0.0402 - val_loss: 0.0032 - val_mae: 0.0392\n",
      "Epoch 8/30\n",
      "495/495 [==============================] - 1s 1ms/step - loss: 0.0034 - mae: 0.0396 - val_loss: 0.0030 - val_mae: 0.0378\n",
      "Epoch 9/30\n",
      "495/495 [==============================] - 1s 1ms/step - loss: 0.0033 - mae: 0.0390 - val_loss: 0.0034 - val_mae: 0.0406\n",
      "Epoch 10/30\n",
      "495/495 [==============================] - 1s 1ms/step - loss: 0.0033 - mae: 0.0386 - val_loss: 0.0034 - val_mae: 0.0394\n",
      "Epoch 11/30\n",
      "495/495 [==============================] - 1s 2ms/step - loss: 0.0032 - mae: 0.0380 - val_loss: 0.0037 - val_mae: 0.0428\n",
      "Epoch 12/30\n",
      "495/495 [==============================] - 1s 2ms/step - loss: 0.0031 - mae: 0.0378 - val_loss: 0.0034 - val_mae: 0.0400\n",
      "Epoch 13/30\n",
      "495/495 [==============================] - 1s 2ms/step - loss: 0.0030 - mae: 0.0368 - val_loss: 0.0031 - val_mae: 0.0391\n",
      "Epoch 14/30\n",
      "495/495 [==============================] - 1s 2ms/step - loss: 0.0030 - mae: 0.0366 - val_loss: 0.0031 - val_mae: 0.0390\n",
      "Epoch 15/30\n",
      "495/495 [==============================] - 1s 2ms/step - loss: 0.0029 - mae: 0.0363 - val_loss: 0.0034 - val_mae: 0.0395\n",
      "Epoch 16/30\n",
      "495/495 [==============================] - 1s 2ms/step - loss: 0.0029 - mae: 0.0361 - val_loss: 0.0030 - val_mae: 0.0380\n",
      "Epoch 17/30\n",
      "495/495 [==============================] - 1s 2ms/step - loss: 0.0028 - mae: 0.0355 - val_loss: 0.0032 - val_mae: 0.0392\n",
      "Epoch 18/30\n",
      "495/495 [==============================] - 1s 2ms/step - loss: 0.0028 - mae: 0.0355 - val_loss: 0.0029 - val_mae: 0.0378\n",
      "Epoch 19/30\n",
      "495/495 [==============================] - 1s 1ms/step - loss: 0.0028 - mae: 0.0351 - val_loss: 0.0031 - val_mae: 0.0392\n",
      "Epoch 20/30\n",
      "495/495 [==============================] - 1s 2ms/step - loss: 0.0028 - mae: 0.0352 - val_loss: 0.0031 - val_mae: 0.0391\n",
      "Epoch 21/30\n",
      "495/495 [==============================] - 1s 2ms/step - loss: 0.0027 - mae: 0.0350 - val_loss: 0.0030 - val_mae: 0.0380\n",
      "Epoch 22/30\n",
      "495/495 [==============================] - 1s 2ms/step - loss: 0.0027 - mae: 0.0350 - val_loss: 0.0031 - val_mae: 0.0384\n",
      "Epoch 23/30\n",
      "495/495 [==============================] - 1s 1ms/step - loss: 0.0028 - mae: 0.0351 - val_loss: 0.0030 - val_mae: 0.0374\n",
      "Epoch 24/30\n",
      "495/495 [==============================] - 1s 2ms/step - loss: 0.0027 - mae: 0.0346 - val_loss: 0.0032 - val_mae: 0.0381\n",
      "Epoch 25/30\n",
      "495/495 [==============================] - 1s 2ms/step - loss: 0.0027 - mae: 0.0346 - val_loss: 0.0031 - val_mae: 0.0380\n",
      "Epoch 26/30\n",
      "495/495 [==============================] - 1s 2ms/step - loss: 0.0027 - mae: 0.0346 - val_loss: 0.0029 - val_mae: 0.0381\n",
      "Epoch 27/30\n",
      "495/495 [==============================] - 1s 2ms/step - loss: 0.0027 - mae: 0.0347 - val_loss: 0.0030 - val_mae: 0.0382\n",
      "Epoch 28/30\n",
      "495/495 [==============================] - 1s 2ms/step - loss: 0.0027 - mae: 0.0346 - val_loss: 0.0029 - val_mae: 0.0367\n",
      "Epoch 29/30\n",
      "495/495 [==============================] - 1s 2ms/step - loss: 0.0026 - mae: 0.0343 - val_loss: 0.0029 - val_mae: 0.0383\n",
      "Epoch 30/30\n",
      "495/495 [==============================] - 1s 2ms/step - loss: 0.0026 - mae: 0.0341 - val_loss: 0.0032 - val_mae: 0.0394\n"
     ]
    }
   ],
   "source": [
    "import tensorflow as tf\n",
    "from tensorflow import keras\n",
    "from tensorflow.keras.layers import Dense,Activation,Dropout\n",
    "from keras.models import Sequential\n",
    "model = Sequential()\n",
    "model.add(Dense(27,input_dim=27,kernel_initializer='normal',activation='relu'))\n",
    "model.add(Dropout(0.2))\n",
    "model.add(Dense(100,kernel_initializer='normal',activation='relu'))\n",
    "model.add(Dropout(0.2))\n",
    "model.add(Dense(1,kernel_initializer='normal',activation='linear'))\n",
    "model.compile(optimizer='adam', loss='mse', metrics=['mae'])\n",
    "history = model.fit(x_train, y_train, validation_split=0.2,\n",
    "                    epochs=30,batch_size=64)"
   ]
  },
  {
   "cell_type": "markdown",
   "metadata": {},
   "source": [
    "# Plot"
   ]
  },
  {
   "cell_type": "code",
   "execution_count": 115,
   "metadata": {},
   "outputs": [
    {
     "name": "stdout",
     "output_type": "stream",
     "text": [
      "2479/2479 [==============================] - 1s 559us/step - loss: 0.0099 - mae: 0.0761\n"
     ]
    },
    {
     "data": {
      "image/png": "[encoded data removed]",
      "text/plain": [
       "<Figure size 432x288 with 1 Axes>"
      ]
     },
     "metadata": {
      "needs_background": "light"
     },
     "output_type": "display_data"
    },
    {
     "data": {
      "image/png": "[encoded data removed]",
      "text/plain": [
       "<Figure size 432x288 with 1 Axes>"
      ]
     },
     "metadata": {
      "needs_background": "light"
     },
     "output_type": "display_data"
    }
   ],
   "source": [
    "import matplotlib.pyplot as plt\n",
    "model.evaluate(x_test,y_test)\n",
    "plt.plot(np.arange(1,31),history.history['loss']\n",
    "         ,label = 'loss',lw=2.5)\n",
    "plt.plot(np.arange(1,31),history.history['val_loss'],\n",
    "         label = 'val_loss',lw=2.5)\n",
    "plt.xlabel('epoch')\n",
    "plt.title('MSE for 30 epochs')\n",
    "plt.legend()\n",
    "plt.grid()\n",
    "plt.figure()\n",
    "plt.plot(np.arange(1,31),history.history['mae']\n",
    "         ,label = 'mae',lw=2.5)\n",
    "plt.plot(np.arange(1,31),history.history['val_mae'],\n",
    "         label = 'val_mae',lw=2.5)\n",
    "plt.xlabel('epoch')\n",
    "plt.title('MAE for 30 epochs')\n",
    "plt.legend()\n",
    "plt.grid()"
   ]
  },
  {
   "cell_type": "code",
   "execution_count": null,
   "metadata": {},
   "outputs": [],
   "source": []
  },
  {
   "cell_type": "code",
   "execution_count": null,
   "metadata": {},
   "outputs": [],
   "source": []
  }
 ],
 "metadata": {
  "kernelspec": {
   "display_name": "Python 3",
   "language": "python",
   "name": "python3"
  },
  "language_info": {
   "codemirror_mode": {
    "name": "ipython",
    "version": 3
   },
   "file_extension": ".py",
   "mimetype": "text/x-python",
   "name": "python",
   "nbconvert_exporter": "python",
   "pygments_lexer": "ipython3",
   "version": "3.7.6"
  }
 },
 "nbformat": 4,
 "nbformat_minor": 4
}
